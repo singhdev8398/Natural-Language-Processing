{
 "cells": [
  {
   "cell_type": "markdown",
   "id": "21caddee",
   "metadata": {},
   "source": [
    "# String Methods & Built-in-functions"
   ]
  },
  {
   "cell_type": "markdown",
   "id": "b7b34e88",
   "metadata": {},
   "source": [
    "# Capitalize()"
   ]
  },
  {
   "cell_type": "markdown",
   "id": "a6d9ad5a",
   "metadata": {},
   "source": [
    "The capitalize() function in Python is used to capitalize the first letter of a string. It turns the rest of all letters to lowercase."
   ]
  },
  {
   "cell_type": "code",
   "execution_count": 1,
   "id": "c0b5c7d5",
   "metadata": {},
   "outputs": [],
   "source": [
    "str1=\"concept of mathematics\""
   ]
  },
  {
   "cell_type": "code",
   "execution_count": 2,
   "id": "46172a62",
   "metadata": {},
   "outputs": [
    {
     "data": {
      "text/plain": [
       "'Concept of mathematics'"
      ]
     },
     "execution_count": 2,
     "metadata": {},
     "output_type": "execute_result"
    }
   ],
   "source": [
    "str1.capitalize()"
   ]
  },
  {
   "cell_type": "code",
   "execution_count": 3,
   "id": "6a779ed8",
   "metadata": {},
   "outputs": [],
   "source": [
    "str2=\"national institute of technology\""
   ]
  },
  {
   "cell_type": "code",
   "execution_count": 4,
   "id": "20927c95",
   "metadata": {},
   "outputs": [
    {
     "data": {
      "text/plain": [
       "'National institute of technology'"
      ]
     },
     "execution_count": 4,
     "metadata": {},
     "output_type": "execute_result"
    }
   ],
   "source": [
    "str2.capitalize()"
   ]
  },
  {
   "cell_type": "markdown",
   "id": "19dc030b",
   "metadata": {},
   "source": [
    "# Center()"
   ]
  },
  {
   "cell_type": "markdown",
   "id": "bd987564",
   "metadata": {},
   "source": [
    "center() methode will center align the string, using a specified character (space is default ) as the fill character\n",
    "\n",
    "string.center(width,fillchar=' ')  # syntax"
   ]
  },
  {
   "cell_type": "code",
   "execution_count": 10,
   "id": "75127402",
   "metadata": {},
   "outputs": [],
   "source": [
    "s='string'"
   ]
  },
  {
   "cell_type": "code",
   "execution_count": 9,
   "id": "798a6b83",
   "metadata": {},
   "outputs": [
    {
     "name": "stdout",
     "output_type": "stream",
     "text": [
      "<class 'str'>\n"
     ]
    }
   ],
   "source": [
    "print(type(\"string\"))"
   ]
  },
  {
   "cell_type": "code",
   "execution_count": 11,
   "id": "6233abbc",
   "metadata": {},
   "outputs": [
    {
     "data": {
      "text/plain": [
       "'*******string*******'"
      ]
     },
     "execution_count": 11,
     "metadata": {},
     "output_type": "execute_result"
    }
   ],
   "source": [
    "s.center(20,\"*\")"
   ]
  },
  {
   "cell_type": "code",
   "execution_count": 12,
   "id": "be1785b4",
   "metadata": {},
   "outputs": [
    {
     "data": {
      "text/plain": [
       "'33333333string3333333'"
      ]
     },
     "execution_count": 12,
     "metadata": {},
     "output_type": "execute_result"
    }
   ],
   "source": [
    "s.center(21,\"3\")"
   ]
  },
  {
   "cell_type": "markdown",
   "id": "b04e67b6",
   "metadata": {},
   "source": [
    "# Count()"
   ]
  },
  {
   "cell_type": "markdown",
   "id": "851b7843",
   "metadata": {},
   "source": [
    "the count() method returns the number of occurrences of a substring in the given string\n",
    "\n",
    "syntax:-   string.count(substring)   or string.count(char)"
   ]
  },
  {
   "cell_type": "code",
   "execution_count": 13,
   "id": "b6ddb12c",
   "metadata": {},
   "outputs": [],
   "source": [
    "st=\"concept of mathematics\""
   ]
  },
  {
   "cell_type": "code",
   "execution_count": 14,
   "id": "48faaba8",
   "metadata": {},
   "outputs": [
    {
     "data": {
      "text/plain": [
       "1"
      ]
     },
     "execution_count": 14,
     "metadata": {},
     "output_type": "execute_result"
    }
   ],
   "source": [
    "st.count(\"of\")"
   ]
  },
  {
   "cell_type": "code",
   "execution_count": 15,
   "id": "7698b184",
   "metadata": {},
   "outputs": [
    {
     "data": {
      "text/plain": [
       "1"
      ]
     },
     "execution_count": 15,
     "metadata": {},
     "output_type": "execute_result"
    }
   ],
   "source": [
    "st.count(\"concept\")"
   ]
  },
  {
   "cell_type": "code",
   "execution_count": 16,
   "id": "f3efc1d8",
   "metadata": {},
   "outputs": [
    {
     "data": {
      "text/plain": [
       "2"
      ]
     },
     "execution_count": 16,
     "metadata": {},
     "output_type": "execute_result"
    }
   ],
   "source": [
    "str=\"IntelliMathsAI\"\n",
    "str.count(\"I\")"
   ]
  },
  {
   "cell_type": "markdown",
   "id": "8ce2b53e",
   "metadata": {},
   "source": [
    "# Encode() & Decode()"
   ]
  },
  {
   "cell_type": "markdown",
   "id": "12efb42d",
   "metadata": {},
   "source": [
    "The encode() method encodes the string, using the specified encoding. If no encoding is specified, UTF-8 will be used."
   ]
  },
  {
   "cell_type": "code",
   "execution_count": 17,
   "id": "550ef0a4",
   "metadata": {},
   "outputs": [
    {
     "name": "stdout",
     "output_type": "stream",
     "text": [
      "b'string'\n"
     ]
    }
   ],
   "source": [
    "print(\"string\".encode('utf-8'))"
   ]
  },
  {
   "cell_type": "code",
   "execution_count": 18,
   "id": "c3bebfcb",
   "metadata": {},
   "outputs": [
    {
     "data": {
      "text/plain": [
       "'string'"
      ]
     },
     "execution_count": 18,
     "metadata": {},
     "output_type": "execute_result"
    }
   ],
   "source": [
    "b'string'.decode('utf-8')"
   ]
  },
  {
   "cell_type": "code",
   "execution_count": 23,
   "id": "c21f3705",
   "metadata": {},
   "outputs": [
    {
     "name": "stdout",
     "output_type": "stream",
     "text": [
      "The encoded string is:  b'\\xff\\xfeH\\x00e\\x00l\\x00l\\x00o\\x00!\\x00 \\x00W\\x00e\\x00l\\x00c\\x00o\\x00m\\x00e\\x00 \\x00t\\x00o\\x00 \\x00i\\x00n\\x00t\\x00e\\x00l\\x00l\\x00i\\x00M\\x00a\\x00t\\x00h\\x00s\\x00A\\x00I\\x00.\\x00'\n"
     ]
    }
   ],
   "source": [
    "str=\"Hello! Welcome to intelliMathsAI.\"\n",
    "str_encoded1= str.encode('utf_16','strict')\n",
    "print(\"The encoded string is: \", str_encoded1)"
   ]
  },
  {
   "cell_type": "code",
   "execution_count": 24,
   "id": "15379bfe",
   "metadata": {},
   "outputs": [
    {
     "data": {
      "text/plain": [
       "b'\\xff\\xfeH\\x00e\\x00l\\x00l\\x00o\\x00!\\x00 \\x00W\\x00e\\x00l\\x00c\\x00o\\x00m\\x00e\\x00 \\x00t\\x00o\\x00 \\x00i\\x00n\\x00t\\x00e\\x00l\\x00l\\x00i\\x00M\\x00a\\x00t\\x00h\\x00s\\x00A\\x00I\\x00.\\x00'"
      ]
     },
     "execution_count": 24,
     "metadata": {},
     "output_type": "execute_result"
    }
   ],
   "source": [
    "str_encoded1"
   ]
  },
  {
   "cell_type": "code",
   "execution_count": 20,
   "id": "af4e3059",
   "metadata": {},
   "outputs": [
    {
     "name": "stdout",
     "output_type": "stream",
     "text": [
      "The encoded string is:  b'Hello! Welcome to intelliMathsAI.'\n"
     ]
    }
   ],
   "source": [
    "str=\"Hello! Welcome to intelliMathsAI.\"\n",
    "str_encoded= str.encode('utf_8','strict')\n",
    "print(\"The encoded string is: \", str_encoded)"
   ]
  },
  {
   "cell_type": "code",
   "execution_count": 25,
   "id": "79343d8d",
   "metadata": {},
   "outputs": [
    {
     "name": "stdout",
     "output_type": "stream",
     "text": [
      "The encoded string is:  Hello! Welcome to intelliMathsAI.\n"
     ]
    }
   ],
   "source": [
    "str_decode= str_encoded1.decode('utf_16','strict')\n",
    "print(\"The encoded string is: \", str_decode)"
   ]
  },
  {
   "cell_type": "code",
   "execution_count": null,
   "id": "5ff89e6e",
   "metadata": {},
   "outputs": [],
   "source": []
  },
  {
   "cell_type": "markdown",
   "id": "fea1b2c9",
   "metadata": {},
   "source": [
    "# endswith()"
   ]
  },
  {
   "cell_type": "markdown",
   "id": "5a2fb56a",
   "metadata": {},
   "source": [
    "the endswith() function for a String object determines whether the string ends with a specified suffix, and returns True if it does, or False if it does not."
   ]
  },
  {
   "cell_type": "markdown",
   "id": "a01462af",
   "metadata": {},
   "source": [
    "Syntax: str.endswith(suffix, start, end)\n",
    "\n",
    "Parameters: \n",
    "\n",
    "suffix: Suffix is nothing but a string that needs to be checked.\n",
    "\n",
    "start: Starting position from where suffix is needed to be checked within the string.\n",
    "\n",
    "end: Ending position + 1 from where suffix is needed to be checked within the string.\n",
    "\n",
    "Return: ReturnsTrue if the string ends with the given suffix otherwise return False."
   ]
  },
  {
   "cell_type": "code",
   "execution_count": 26,
   "id": "caba79fb",
   "metadata": {},
   "outputs": [],
   "source": [
    "str=\"concept of mathematics\""
   ]
  },
  {
   "cell_type": "code",
   "execution_count": 27,
   "id": "656cdb98",
   "metadata": {},
   "outputs": [
    {
     "data": {
      "text/plain": [
       "True"
      ]
     },
     "execution_count": 27,
     "metadata": {},
     "output_type": "execute_result"
    }
   ],
   "source": [
    "str.endswith(\"s\")"
   ]
  },
  {
   "cell_type": "code",
   "execution_count": 28,
   "id": "c1604166",
   "metadata": {},
   "outputs": [
    {
     "data": {
      "text/plain": [
       "False"
      ]
     },
     "execution_count": 28,
     "metadata": {},
     "output_type": "execute_result"
    }
   ],
   "source": [
    "str.endswith(\"p\")"
   ]
  },
  {
   "cell_type": "code",
   "execution_count": 29,
   "id": "3bdd5fc8",
   "metadata": {},
   "outputs": [
    {
     "data": {
      "text/plain": [
       "True"
      ]
     },
     "execution_count": 29,
     "metadata": {},
     "output_type": "execute_result"
    }
   ],
   "source": [
    "str.endswith(\"mathematics\")"
   ]
  },
  {
   "cell_type": "code",
   "execution_count": 30,
   "id": "c2a50af0",
   "metadata": {},
   "outputs": [
    {
     "data": {
      "text/plain": [
       "True"
      ]
     },
     "execution_count": 30,
     "metadata": {},
     "output_type": "execute_result"
    }
   ],
   "source": [
    "str.endswith(\"mathematics\",6)"
   ]
  },
  {
   "cell_type": "code",
   "execution_count": 32,
   "id": "116dc9e7",
   "metadata": {},
   "outputs": [
    {
     "name": "stdout",
     "output_type": "stream",
     "text": [
      "True\n",
      "False\n",
      "True\n"
     ]
    }
   ],
   "source": [
    "text = \"concept of mathematics\"\n",
    "\n",
    "# start parameter: 11\n",
    "result = text.endswith('mathematics', 11)\n",
    "print(result)\n",
    "\n",
    "# Both start and end is provided\n",
    "# start: 11, end: 21 - 1\n",
    "# Returns False\n",
    "result = text.endswith('mathematics', 11, 21)\n",
    "print(result)\n",
    "\n",
    "# returns True\n",
    "result = text.endswith('mathematics', 11, 22)\n",
    "print(result)"
   ]
  },
  {
   "cell_type": "markdown",
   "id": "cc86890d",
   "metadata": {},
   "source": [
    "# expandtabs()"
   ]
  },
  {
   "cell_type": "markdown",
   "id": "d673665d",
   "metadata": {},
   "source": [
    "# expandtabs() Method specifies the amount of space to be substituted with the “\\t” symbol in the string.\n",
    "\n",
    "Syntax : expandtabs(space_size)\n",
    "\n",
    "Parameters\n",
    "\n",
    "tabsize : Specifies the space that is to be replaced with the “\\t” symbol in the string. By default the space is 8.\n",
    "    \n",
    "Return : Returns the modified string with tabs replaced by the space."
   ]
  },
  {
   "cell_type": "code",
   "execution_count": 33,
   "id": "1580b265",
   "metadata": {},
   "outputs": [],
   "source": [
    "s='Dev\\tDsingh'"
   ]
  },
  {
   "cell_type": "code",
   "execution_count": 35,
   "id": "40b09631",
   "metadata": {},
   "outputs": [
    {
     "data": {
      "text/plain": [
       "'Dev                 Dsingh'"
      ]
     },
     "execution_count": 35,
     "metadata": {},
     "output_type": "execute_result"
    }
   ],
   "source": [
    "s.expandtabs(tabsize=20)"
   ]
  },
  {
   "cell_type": "markdown",
   "id": "b39783df",
   "metadata": {},
   "source": [
    "# Find()"
   ]
  },
  {
   "cell_type": "markdown",
   "id": "dd498263",
   "metadata": {},
   "source": [
    "The find() method finds the first occurrence of the specified value. The find() method returns -1 if the value is not found.\n",
    "\n",
    "str_obj.find(sub, start, end)\n",
    "\n",
    "Parameters\n",
    "\n",
    "sub: Substring that needs to be searched in the given string.\n",
    "    \n",
    "start (optional): Starting position where the substring needs to be checked within the string.\n",
    "    \n",
    "end (optional): The end position is the index of the last value for the specified range. It is excluded while checking."
   ]
  },
  {
   "cell_type": "code",
   "execution_count": 36,
   "id": "2d9a9f99",
   "metadata": {},
   "outputs": [],
   "source": [
    "text=\"concept of mathematics\""
   ]
  },
  {
   "cell_type": "code",
   "execution_count": 39,
   "id": "afcde1d9",
   "metadata": {},
   "outputs": [
    {
     "data": {
      "text/plain": [
       "11"
      ]
     },
     "execution_count": 39,
     "metadata": {},
     "output_type": "execute_result"
    }
   ],
   "source": [
    "(text.find(\"math\"))"
   ]
  },
  {
   "cell_type": "code",
   "execution_count": 40,
   "id": "31413382",
   "metadata": {},
   "outputs": [
    {
     "data": {
      "text/plain": [
       "11"
      ]
     },
     "execution_count": 40,
     "metadata": {},
     "output_type": "execute_result"
    }
   ],
   "source": [
    "text.find(\"math\",11,15)"
   ]
  },
  {
   "cell_type": "code",
   "execution_count": 41,
   "id": "5369db0c",
   "metadata": {},
   "outputs": [
    {
     "data": {
      "text/plain": [
       "-1"
      ]
     },
     "execution_count": 41,
     "metadata": {},
     "output_type": "execute_result"
    }
   ],
   "source": [
    "text.find(\"dev\")"
   ]
  },
  {
   "cell_type": "markdown",
   "id": "1cff7ac0",
   "metadata": {},
   "source": [
    "# Formate()"
   ]
  },
  {
   "cell_type": "markdown",
   "id": "a215476f",
   "metadata": {},
   "source": [
    "The format() method formats the specified value(s) and insert them inside the string's placeholder.\n",
    "\n",
    "The placeholder is defined using curly brackets: { }. Read more about the placeholders in the Placeholder section below.\n",
    "\n",
    "The format() method returns the formatted string.\n",
    "\n"
   ]
  },
  {
   "cell_type": "code",
   "execution_count": 42,
   "id": "92768ef9",
   "metadata": {},
   "outputs": [],
   "source": [
    "txt1 = \"My name is {fname}, I'm {age}\".format(fname = \"John\", age = 36)\n",
    "txt2 = \"My name is {0}, I'm {1}\".format(\"John\",36)\n",
    "txt3 = \"My name is {}, I'm {}\".format(\"John\",36)"
   ]
  },
  {
   "cell_type": "code",
   "execution_count": 43,
   "id": "1f2f3bda",
   "metadata": {},
   "outputs": [
    {
     "data": {
      "text/plain": [
       "\"My name is John, I'm 36\""
      ]
     },
     "execution_count": 43,
     "metadata": {},
     "output_type": "execute_result"
    }
   ],
   "source": [
    "txt1"
   ]
  },
  {
   "cell_type": "code",
   "execution_count": 44,
   "id": "ead0760c",
   "metadata": {},
   "outputs": [
    {
     "data": {
      "text/plain": [
       "\"My name is John, I'm 36\""
      ]
     },
     "execution_count": 44,
     "metadata": {},
     "output_type": "execute_result"
    }
   ],
   "source": [
    "txt2"
   ]
  },
  {
   "cell_type": "code",
   "execution_count": 45,
   "id": "b90f9d9b",
   "metadata": {},
   "outputs": [
    {
     "data": {
      "text/plain": [
       "\"My name is John, I'm 36\""
      ]
     },
     "execution_count": 45,
     "metadata": {},
     "output_type": "execute_result"
    }
   ],
   "source": [
    "txt3"
   ]
  },
  {
   "cell_type": "markdown",
   "id": "7cbd6c28",
   "metadata": {},
   "source": [
    "# index()"
   ]
  },
  {
   "cell_type": "markdown",
   "id": "2068c466",
   "metadata": {},
   "source": [
    "The index() method returns the position at the first occurrence of the specified value.\n",
    "\n",
    "index() Method Syntax\n",
    "\n",
    "list_name.index(element, start, end) \n",
    "\n",
    "Parameters: \n",
    "    \n",
    "element – The element whose lowest index will be returned.\n",
    "\n",
    "start (Optional) – The position from where the search begins.\n",
    "\n",
    "end (Optional) – The position from where the search ends."
   ]
  },
  {
   "cell_type": "code",
   "execution_count": 46,
   "id": "b6ddec0f",
   "metadata": {},
   "outputs": [
    {
     "name": "stdout",
     "output_type": "stream",
     "text": [
      "7\n"
     ]
    }
   ],
   "source": [
    "txt = \"Hello, welcome to my world.\"\n",
    "\n",
    "x = txt.index(\"welcome\")\n",
    "\n",
    "print(x)"
   ]
  },
  {
   "cell_type": "code",
   "execution_count": 51,
   "id": "2ccfd212",
   "metadata": {
    "scrolled": true
   },
   "outputs": [
    {
     "name": "stdout",
     "output_type": "stream",
     "text": [
      "8\n"
     ]
    }
   ],
   "source": [
    "txt = \"Hello, welcome to my world.\"\n",
    "\n",
    "x = txt.index(\"e\", 3, 10)\n",
    "\n",
    "print(x)"
   ]
  },
  {
   "cell_type": "markdown",
   "id": "cc5d282a",
   "metadata": {},
   "source": [
    "# isalnum()"
   ]
  },
  {
   "cell_type": "markdown",
   "id": "ff91abeb",
   "metadata": {},
   "source": [
    "isalnum() method returns True if all of the characters in the string are alphanumeric (either alphabets or numbers). If not, it returns False.\n",
    "\n",
    "Syntax:  string_name.isalnum() \n",
    "\n",
    "Parameter:  isalnum() method takes no parameters \n",
    "\n",
    "Return: \n",
    "\n",
    "True: If all the characters are alphanumeric\n",
    "    \n",
    "False: If one or more characters are not alphanumeric "
   ]
  },
  {
   "cell_type": "code",
   "execution_count": 52,
   "id": "92a54c1d",
   "metadata": {},
   "outputs": [
    {
     "data": {
      "text/plain": [
       "True"
      ]
     },
     "execution_count": 52,
     "metadata": {},
     "output_type": "execute_result"
    }
   ],
   "source": [
    "s=\"intelliMathsAI123\"\n",
    "s.isalnum()"
   ]
  },
  {
   "cell_type": "code",
   "execution_count": 53,
   "id": "2b355e62",
   "metadata": {},
   "outputs": [
    {
     "data": {
      "text/plain": [
       "True"
      ]
     },
     "execution_count": 53,
     "metadata": {},
     "output_type": "execute_result"
    }
   ],
   "source": [
    "s=\"dev\"\n",
    "s.isalnum()"
   ]
  },
  {
   "cell_type": "code",
   "execution_count": 54,
   "id": "a34bc263",
   "metadata": {},
   "outputs": [
    {
     "data": {
      "text/plain": [
       "True"
      ]
     },
     "execution_count": 54,
     "metadata": {},
     "output_type": "execute_result"
    }
   ],
   "source": [
    "s=\"6767\"\n",
    "s.isalnum()"
   ]
  },
  {
   "cell_type": "code",
   "execution_count": 55,
   "id": "bbf14fb9",
   "metadata": {},
   "outputs": [
    {
     "name": "stdout",
     "output_type": "stream",
     "text": [
      "abc 123 is alphanumeric? False\n",
      "abc_123 is alphanumeric? False\n",
      "000 is alphanumeric? True\n",
      "aaaa is alphanumeric? True\n"
     ]
    }
   ],
   "source": [
    "string = \"abc 123\"\n",
    "print(string, \"is alphanumeric?\", string.isalnum())\n",
    "\n",
    "string = \"abc_123\"\n",
    "print(string, \"is alphanumeric?\", string.isalnum())\n",
    "\n",
    "string = \"000\"\n",
    "print(string, \"is alphanumeric?\", string.isalnum())\n",
    "\n",
    "string = \"aaaa\"\n",
    "print(string, \"is alphanumeric?\", string.isalnum())\n"
   ]
  },
  {
   "cell_type": "markdown",
   "id": "71a62746",
   "metadata": {},
   "source": [
    "# isalpha()"
   ]
  },
  {
   "cell_type": "markdown",
   "id": "f461e11b",
   "metadata": {},
   "source": [
    "String isalpha() method is used to check whether all characters in the String are an alphabet.\n",
    "\n",
    "String isalpha() Method Syntax\n",
    "\n",
    "    Syntax:  string.isalpha()\n",
    "\n",
    "Parameters: isalpha() does not take any parameters\n",
    "\n",
    "Returns:\n",
    "\n",
    "    True: If all characters in the string are alphabet.\n",
    "    \n",
    "    False: If the string contains 1 or more non-alphabets."
   ]
  },
  {
   "cell_type": "code",
   "execution_count": 56,
   "id": "1ea2921b",
   "metadata": {},
   "outputs": [
    {
     "data": {
      "text/plain": [
       "False"
      ]
     },
     "execution_count": 56,
     "metadata": {},
     "output_type": "execute_result"
    }
   ],
   "source": [
    "s=\"Dev123\"\n",
    "s.isalpha()"
   ]
  },
  {
   "cell_type": "code",
   "execution_count": 57,
   "id": "f12b745a",
   "metadata": {},
   "outputs": [
    {
     "name": "stdout",
     "output_type": "stream",
     "text": [
      "True\n",
      "False\n",
      "False\n"
     ]
    }
   ],
   "source": [
    "# checking for alphabets\n",
    "string = 'Devendra'\n",
    "print(string.isalpha())\n",
    "\n",
    "string = 'Devendra0212'\n",
    "print(string.isalpha())\n",
    "\n",
    "# checking if space is an alphabet\n",
    "string = 'Devendra Singh'\n",
    "print( string.isalpha())\n"
   ]
  },
  {
   "cell_type": "markdown",
   "id": "f9696fce",
   "metadata": {},
   "source": [
    "# isdecimal()"
   ]
  },
  {
   "cell_type": "markdown",
   "id": "bb89260b",
   "metadata": {},
   "source": [
    "isdecimal() function returns true if all characters in a string are decimal, else it returns False.\n",
    "\n",
    "    char is (0-9) decimal\n",
    "\n",
    "isdecimal() Syntax\n",
    "\n",
    "     Syntax: string_name.isdecimal(), string_name is the string whose characters are to be checked\n",
    "\n",
    "Parameters: This method does not takes any parameters .\n",
    "\n",
    "Return: boolean value. \n",
    "\n",
    "    True – all characters are decimal,\n",
    "    \n",
    "    False – one or more than one character is not decimal."
   ]
  },
  {
   "cell_type": "code",
   "execution_count": 58,
   "id": "9c2d60cc",
   "metadata": {},
   "outputs": [
    {
     "data": {
      "text/plain": [
       "True"
      ]
     },
     "execution_count": 58,
     "metadata": {},
     "output_type": "execute_result"
    }
   ],
   "source": [
    "s=\"23\"\n",
    "s.isdecimal()"
   ]
  },
  {
   "cell_type": "code",
   "execution_count": 59,
   "id": "8a71b7c8",
   "metadata": {},
   "outputs": [
    {
     "data": {
      "text/plain": [
       "False"
      ]
     },
     "execution_count": 59,
     "metadata": {},
     "output_type": "execute_result"
    }
   ],
   "source": [
    "s='0.34'\n",
    "s.isdecimal()"
   ]
  },
  {
   "cell_type": "code",
   "execution_count": 60,
   "id": "28ed509d",
   "metadata": {},
   "outputs": [
    {
     "name": "stdout",
     "output_type": "stream",
     "text": [
      "True\n",
      "False\n",
      "False\n"
     ]
    }
   ],
   "source": [
    "s = \"12345\"\n",
    "print(s.isdecimal())\n",
    "\n",
    "# contains alphabets\n",
    "s = \"12Intellimathsai34\"\n",
    "print(s.isdecimal())\n",
    "\n",
    "# contains numbers and spaces\n",
    "s = \"12/34\"\n",
    "print(s.isdecimal())\n"
   ]
  },
  {
   "cell_type": "markdown",
   "id": "6fd9e711",
   "metadata": {},
   "source": [
    "# isdigit()"
   ]
  },
  {
   "cell_type": "markdown",
   "id": "2b1cc638",
   "metadata": {},
   "source": [
    " isdigit() method returns “True” if all characters in the string are digits, Otherwise, It returns “False”. \n",
    "\n",
    "isdigit() Method Syntax\n",
    "\n",
    "    Syntax: string.isdigit()\n",
    "\n",
    "Parameters: isdigit() does not take any parameters\n",
    "\n",
    "Returns:\n",
    "\n",
    "     True – If all characters in the string are digits.\n",
    "         \n",
    "     False – If the string contains 1 or more non-digits."
   ]
  },
  {
   "cell_type": "code",
   "execution_count": 61,
   "id": "2195b8db",
   "metadata": {},
   "outputs": [
    {
     "name": "stdout",
     "output_type": "stream",
     "text": [
      "True\n",
      "False\n"
     ]
    }
   ],
   "source": [
    "# checking for digit\n",
    "string = '15460'\n",
    "print(string.isdigit())\n",
    "\n",
    "string = '1devendra60'\n",
    "print(string.isdigit())\n"
   ]
  },
  {
   "cell_type": "markdown",
   "id": "0ecd429a",
   "metadata": {},
   "source": [
    "# isidentifier()"
   ]
  },
  {
   "cell_type": "markdown",
   "id": "de2433ac",
   "metadata": {},
   "source": [
    " isidentifier() method is used to check whether a string is a valid identifier or not. The method returns True if the string is a valid identifier, else returns False.\n",
    "\n",
    "Python String isidentifier() method Syntax\n",
    "\n",
    "    Syntax:  string.isidentifier()\n",
    "\n",
    "    Parameters: The method does not take any parameters\n",
    "\n",
    "Return Value:  The method can return one of the two values: \n",
    "\n",
    "    True: When the string is a valid identifier.\n",
    "    \n",
    "    False: When the string is not a valid identifier."
   ]
  },
  {
   "cell_type": "code",
   "execution_count": 62,
   "id": "36ae531c",
   "metadata": {},
   "outputs": [
    {
     "name": "stdout",
     "output_type": "stream",
     "text": [
      "False\n",
      "True\n",
      "False\n",
      "True\n",
      "False\n"
     ]
    }
   ],
   "source": [
    "# String with spaces\n",
    "string = \"concept of mathematics\"\n",
    "print(string.isidentifier())\n",
    "\n",
    "# A Perfect identifier\n",
    "string = \"conceptofmathematics\"\n",
    "print(string.isidentifier())\n",
    "\n",
    "# Empty string\n",
    "string = \"\"\n",
    "print(string.isidentifier())\n",
    "\n",
    "# Alphanumerical string\n",
    "string = \"concept0of0mathematics\"\n",
    "print(string.isidentifier())\n",
    "\n",
    "# Beginning with an integer\n",
    "string = \"34concept7of9mathematics\"\n",
    "print(string.isidentifier())\n"
   ]
  },
  {
   "cell_type": "markdown",
   "id": "c53a44c2",
   "metadata": {},
   "source": [
    "# islower()"
   ]
  },
  {
   "cell_type": "markdown",
   "id": "1b3e8fd9",
   "metadata": {},
   "source": [
    " islower() method checks if all characters in the string are lowercase.\n",
    " \n",
    " islower() Method Syntax\n",
    " \n",
    "        Syntax:  string.islower()\n",
    "\n",
    "Returns: \n",
    "\n",
    "     True: If all the letters in the string are in lower case and\n",
    "     \n",
    "     False: If even one of them is in upper case.\n",
    "    \n",
    "    "
   ]
  },
  {
   "cell_type": "code",
   "execution_count": 63,
   "id": "880ffa61",
   "metadata": {},
   "outputs": [
    {
     "name": "stdout",
     "output_type": "stream",
     "text": [
      "True\n",
      "False\n"
     ]
    }
   ],
   "source": [
    "# initializing string \n",
    "islow_str = \"conceptofmathematics\"\n",
    "not_islow = \"ConceptOfMAthematics\"\n",
    "\n",
    "# checking which string is \n",
    "# completely lower \n",
    "print(islow_str.islower())\n",
    "print(not_islow.islower())\n"
   ]
  },
  {
   "cell_type": "markdown",
   "id": "8b44ab49",
   "metadata": {},
   "source": [
    "# isnumeric()"
   ]
  },
  {
   "cell_type": "markdown",
   "id": "c48dbadb",
   "metadata": {},
   "source": [
    "The isnumeric() method is a built-in method in Python that belongs to the string class. It is used to determine whether the string consists of numeric characters or not.\n",
    "\n",
    "isnumeric() Method Syntax\n",
    "\n",
    "     Syntax:  string.isnumeric()\n",
    "\n",
    "    Parameters: isnumeric() does not take any parameters\n",
    "\n",
    "Returns :\n",
    "\n",
    "       \n",
    "       True – If all characters in the string are numeric characters.\n",
    "       \n",
    "       False – If the string contains 1 or more non-numeric characters."
   ]
  },
  {
   "cell_type": "code",
   "execution_count": 64,
   "id": "02f8c208",
   "metadata": {},
   "outputs": [
    {
     "name": "stdout",
     "output_type": "stream",
     "text": [
      "False\n",
      "True\n"
     ]
    }
   ],
   "source": [
    "string = 'Devendra456'\n",
    "print(string.isnumeric())\n",
    "\n",
    "string = '123874362456'\n",
    "print(string.isnumeric())\n"
   ]
  },
  {
   "cell_type": "markdown",
   "id": "f55e22e8",
   "metadata": {},
   "source": [
    "# isprintable()"
   ]
  },
  {
   "cell_type": "markdown",
   "id": "72e8986e",
   "metadata": {},
   "source": [
    "isprintable() is a built-in method used for string handling. The isprintable() method returns “True” if all characters in the string are printable or the string is empty, Otherwise, It returns “False”. This function is used to check if the argument contains any printable characters such as:\n",
    "\n",
    "\n",
    "        Digits ( 0123456789 )\n",
    "\n",
    "       Uppercase letters ( ABCDEFGHIJKLMNOPQRSTUVWXYZ )\n",
    "     \n",
    "        Lowercase letters ( abcdefghijklmnopqrstuvwxyz )\n",
    "        \n",
    "        #Punctuation characters ( !”#%&'()*+, -./:;?@[\\]^_`{ | }~ )\n",
    " \n",
    "         Space ( )\n",
    "\n",
    "\n",
    "Syntax: \n",
    "         \n",
    "          string.isprintable()\n",
    "\n",
    "Parameters:\n",
    "\n",
    "         isprintable() does not take any parameters\n",
    "\n",
    "Returns:\n",
    "\n",
    "       \n",
    "          True – If all characters in the string are printable or the string is empty.\n",
    " \n",
    "           False – If the string contains 1 or more nonprintable characters.\n",
    "\n",
    "Errors Or Exceptions:\n",
    "\n",
    "     1. The function does not take any arguments, therefore no parameters should be passed, otherwise, it returns an error.\n",
    "\n",
    "     2. The only whitespace character which is printable is space or ” “, otherwise every whitespace character is non-             printable and the function returns “False”.\n",
    " \n",
    "      3. The empty string is considered printable and it returns “True”."
   ]
  },
  {
   "cell_type": "code",
   "execution_count": 65,
   "id": "a9f7bcc3",
   "metadata": {},
   "outputs": [
    {
     "name": "stdout",
     "output_type": "stream",
     "text": [
      "True\n",
      "False\n",
      "True\n"
     ]
    }
   ],
   "source": [
    "# Python code for implementation of isprintable() \n",
    "\n",
    "# checking for printable characters \n",
    "string = 'My name is Devendra singh'\n",
    "print(string.isprintable()) \n",
    "\n",
    "# checking if \\n is a printable character \n",
    "string = 'My name is \\n Devendra'\n",
    "print(string.isprintable()) \n",
    "\n",
    "# checking if space is a printable character \n",
    "string = '' \n",
    "print( string.isprintable())\n"
   ]
  },
  {
   "cell_type": "markdown",
   "id": "6787c062",
   "metadata": {},
   "source": [
    "# isspace()"
   ]
  },
  {
   "cell_type": "markdown",
   "id": "0d99b6a0",
   "metadata": {},
   "source": [
    " isspace() method returns “True” if all characters in the string are whitespace characters, Otherwise, It returns “False”. This function is used to check if the argument contains all whitespace characters, such as:\n",
    "\n",
    "     ‘ ‘ – Space\n",
    "\n",
    "    ‘\\t’ – Horizontal tab\n",
    "\n",
    "     ‘\\n’ – Newline\n",
    "\n",
    "     ‘\\v’ – Vertical tab\n",
    "\n",
    "     ‘\\f’ – Feed\n",
    "\n",
    "     ‘\\r’ – Carriage return\n",
    "\n",
    "Python String isspace() Method Syntax\n",
    " \n",
    "     Syntax: string.isspace()\n",
    "\n",
    "Returns:\n",
    "\n",
    "     True – If all characters in the string are whitespace characters.\n",
    "\n",
    "     False – If the string contains 1 or more non-whitespace characters."
   ]
  },
  {
   "cell_type": "code",
   "execution_count": 66,
   "id": "685eb3e5",
   "metadata": {},
   "outputs": [
    {
     "name": "stdout",
     "output_type": "stream",
     "text": [
      "False\n",
      "True\n",
      "False\n"
     ]
    }
   ],
   "source": [
    "# checking for whitespace characters\n",
    "string = 'conceptofmathematics'\n",
    "\n",
    "print(string.isspace())\n",
    "\n",
    "# checking if \\n is a whitespace character\n",
    "string = '\\n \\n \\n'\n",
    "\n",
    "print(string.isspace())\n",
    "\n",
    "string = 'concept\\nof\\nmathematics'\n",
    "print( string.isspace())\n"
   ]
  },
  {
   "cell_type": "code",
   "execution_count": 67,
   "id": "71311e57",
   "metadata": {},
   "outputs": [
    {
     "name": "stdout",
     "output_type": "stream",
     "text": [
      "3\n",
      "8\n"
     ]
    }
   ],
   "source": [
    "# Initialising the counter to 0\n",
    "string = 'My name is Devendra'\n",
    "count=0\n",
    "\n",
    "# Iterating the string and checking for whitespace characters\n",
    "# Incrementing the counter if a whitespace character is found\n",
    "# Finally printing the count\n",
    "for a in string:\n",
    "    if (a.isspace()) == True:\n",
    "        count+=1\n",
    "print(count)\n",
    "\n",
    "string = 'My name is \\n\\n\\n\\n\\nDevendra'\n",
    "count = 0\n",
    "for a in string:\n",
    "    if (a.isspace()) == True:\n",
    "        count+=1\n",
    "print(count)\n"
   ]
  },
  {
   "cell_type": "markdown",
   "id": "57a94470",
   "metadata": {},
   "source": [
    "# istitle()"
   ]
  },
  {
   "cell_type": "markdown",
   "id": "b32613c1",
   "metadata": {},
   "source": [
    " istitle() Method is a built-in string function that returns True if all the words in the string are title cased, otherwise returns False.\n",
    "\n",
    "Python String istitle() Method Syntax\n",
    "          \n",
    "          Syntax:  string.istitle()\n",
    "\n",
    "Returns:  True if the string is a title-cased string otherwise returns False."
   ]
  },
  {
   "cell_type": "code",
   "execution_count": 68,
   "id": "ddbcd489",
   "metadata": {},
   "outputs": [
    {
     "name": "stdout",
     "output_type": "stream",
     "text": [
      "True\n",
      "False\n",
      "False\n",
      "True\n",
      "False\n"
     ]
    }
   ],
   "source": [
    "# First character in each word is\n",
    "# uppercase and remaining lowercase\n",
    "s = 'Concept Of Mathematics'\n",
    "print(s.istitle())\n",
    "\n",
    "# First character in first\n",
    "# word is lowercase\n",
    "s = 'concept Of mathematics'\n",
    "print(s.istitle())\n",
    "\n",
    "# Third word has uppercase\n",
    "# characters at middle\n",
    "s = 'Concept Of MATHematics'\n",
    "print(s.istitle())\n",
    "# Ignore the digit 6041, hence returns True\n",
    "s = '8758435 Is My Number'\n",
    "print(s.istitle())\n",
    "\n",
    "# word has uppercase\n",
    "# characters at middle\n",
    "s = 'devndra'\n",
    "print(s.istitle())\n"
   ]
  },
  {
   "cell_type": "markdown",
   "id": "9da781a2",
   "metadata": {},
   "source": [
    "# isupper()"
   ]
  },
  {
   "cell_type": "markdown",
   "id": "f34f02f9",
   "metadata": {},
   "source": [
    "isupper() method returns whether all characters in a string are uppercase or not.\n",
    "\n",
    "Python String isupper() method Syntax\n",
    "\n",
    "     Syntax: string.isupper()\n",
    "\n",
    "Returns: True if all the letters in the string are in the upper case and False if even one of them is in the lower case. "
   ]
  },
  {
   "cell_type": "code",
   "execution_count": 69,
   "id": "10b919a7",
   "metadata": {},
   "outputs": [
    {
     "data": {
      "text/plain": [
       "True"
      ]
     },
     "execution_count": 69,
     "metadata": {},
     "output_type": "execute_result"
    }
   ],
   "source": [
    "s='DEVENDRA SINGH'\n",
    "s.isupper()"
   ]
  },
  {
   "cell_type": "code",
   "execution_count": 70,
   "id": "e4c01240",
   "metadata": {},
   "outputs": [
    {
     "data": {
      "text/plain": [
       "False"
      ]
     },
     "execution_count": 70,
     "metadata": {},
     "output_type": "execute_result"
    }
   ],
   "source": [
    "s=\"concept OF MATHEMATICS\"\n",
    "s.isupper()"
   ]
  },
  {
   "cell_type": "markdown",
   "id": "c39aa302",
   "metadata": {},
   "source": [
    "# join()"
   ]
  },
  {
   "cell_type": "markdown",
   "id": "0aabafcf",
   "metadata": {},
   "source": [
    "join() is an inbuilt string function used to join elements of a sequence separated by a string separator. This function joins elements of a sequence and makes it a string.\n",
    "\n",
    "Python String join() Syntax\n",
    "\n",
    "     Syntax: separator_string.join(iterable)\n",
    "\n",
    "Parameters:\n",
    "\n",
    "     Iterable – objects capable of returning their members one at a time. Some examples are List, Tuple, String, Dictionary, and Set\n",
    "\n",
    "Return Value: The join() method returns a string concatenated with the elements of iterable.\n",
    "\n",
    "Type Error: If the iterable contains any non-string values, it raises a TypeError exception."
   ]
  },
  {
   "cell_type": "code",
   "execution_count": 71,
   "id": "06180eb3",
   "metadata": {},
   "outputs": [
    {
     "name": "stdout",
     "output_type": "stream",
     "text": [
      "h-e-l-l-o\n"
     ]
    }
   ],
   "source": [
    "# This will join the characters of the string 'hello' with '-'\n",
    "str = '-'.join('hello')\n",
    "print(str)  \n"
   ]
  },
  {
   "cell_type": "code",
   "execution_count": 72,
   "id": "c329542c",
   "metadata": {},
   "outputs": [
    {
     "name": "stdout",
     "output_type": "stream",
     "text": [
      "Devds\n",
      " $d$e$v$d$s$ \n"
     ]
    }
   ],
   "source": [
    "# Joining with empty separator\n",
    "list1 = ['D', 'e', 'v', 'd', 's']\n",
    "print(\"\".join(list1))\n",
    "\n",
    "# Joining with string\n",
    "list1 = \" devds \"\n",
    "print(\"$\".join(list1))\n"
   ]
  },
  {
   "cell_type": "code",
   "execution_count": 73,
   "id": "08a430f8",
   "metadata": {},
   "outputs": [
    {
     "data": {
      "text/plain": [
       "'devsingh'"
      ]
     },
     "execution_count": 73,
     "metadata": {},
     "output_type": "execute_result"
    }
   ],
   "source": [
    "'ev'.join(['d','singh'])"
   ]
  },
  {
   "cell_type": "markdown",
   "id": "ceb4c52c",
   "metadata": {},
   "source": [
    "# lower()"
   ]
  },
  {
   "cell_type": "markdown",
   "id": "54a6f250",
   "metadata": {},
   "source": [
    " lower() method converts all letters of a string to lowercase. If no uppercase characters exist, it returns the original string.\n"
   ]
  },
  {
   "cell_type": "code",
   "execution_count": 74,
   "id": "97fd5456",
   "metadata": {},
   "outputs": [
    {
     "name": "stdout",
     "output_type": "stream",
     "text": [
      "convert all to lowercase\n"
     ]
    }
   ],
   "source": [
    "string = \"ConvErT ALL tO LoWErCASe\"\n",
    "print(string.lower())"
   ]
  },
  {
   "cell_type": "markdown",
   "id": "f2406fab",
   "metadata": {},
   "source": [
    "# upper()"
   ]
  },
  {
   "cell_type": "code",
   "execution_count": 75,
   "id": "86cbcb1d",
   "metadata": {},
   "outputs": [],
   "source": [
    "str=\"lower() method converts all letters of a string to lowercase. If no uppercase characters exist, it returns the original string.\""
   ]
  },
  {
   "cell_type": "code",
   "execution_count": 76,
   "id": "e5c32250",
   "metadata": {},
   "outputs": [
    {
     "data": {
      "text/plain": [
       "'LOWER() METHOD CONVERTS ALL LETTERS OF A STRING TO LOWERCASE. IF NO UPPERCASE CHARACTERS EXIST, IT RETURNS THE ORIGINAL STRING.'"
      ]
     },
     "execution_count": 76,
     "metadata": {},
     "output_type": "execute_result"
    }
   ],
   "source": [
    "str.upper()"
   ]
  },
  {
   "cell_type": "code",
   "execution_count": null,
   "id": "ad5dc982",
   "metadata": {},
   "outputs": [],
   "source": []
  },
  {
   "cell_type": "markdown",
   "id": "cc86697f",
   "metadata": {},
   "source": [
    "# lstrip()"
   ]
  },
  {
   "cell_type": "markdown",
   "id": "a847e0cd",
   "metadata": {},
   "source": [
    "lstrip() method returns a copy of the string with leading characters removed (based on the string argument passed). If no argument is passed, it removes leading spaces.\n",
    "\n",
    "Python String lstrip() Method Syntax:\n",
    "\n",
    "    Syntax:  string.lstrip(characters)\n",
    "\n",
    "Parameters: \n",
    "\n",
    "\n",
    "    characters [optional]: A set of characters to remove as leading characters. By default, it uses space as the character to remove.\n",
    "\n",
    "    Return:  Returns a copy of the string with leading characters stripped."
   ]
  },
  {
   "cell_type": "code",
   "execution_count": 77,
   "id": "e779d0f8",
   "metadata": {},
   "outputs": [
    {
     "data": {
      "text/plain": [
       "'concept   of  mathematics   '"
      ]
     },
     "execution_count": 77,
     "metadata": {},
     "output_type": "execute_result"
    }
   ],
   "source": [
    "string = \"    concept   of  mathematics   \"\n",
    "# Removes spaces from left. \n",
    "string.lstrip()\n"
   ]
  },
  {
   "cell_type": "code",
   "execution_count": 78,
   "id": "cbe9acce",
   "metadata": {},
   "outputs": [
    {
     "data": {
      "text/plain": [
       "' concept of mathematics'"
      ]
     },
     "execution_count": 78,
     "metadata": {},
     "output_type": "execute_result"
    }
   ],
   "source": [
    "# string which is to be stripped \n",
    "string = \"++++x...y!!z* concept of mathematics\"\n",
    "\n",
    "# Removes given set of characters from left. \n",
    "string.lstrip(\"+.!*xyz\")\n"
   ]
  },
  {
   "cell_type": "markdown",
   "id": "a614b90c",
   "metadata": {},
   "source": [
    "# partition()"
   ]
  },
  {
   "cell_type": "markdown",
   "id": "ecdf2b96",
   "metadata": {},
   "source": [
    " partition() method splits the string at the first occurrence of the separator and returns a tuple containing the part before the separator, the separator, and the part after the separator. Here, the separator is a string that is given as the argument\n",
    " \n",
    "    Syntax: string.partition(separator)\n",
    "\n",
    "Parameters: \n",
    "\n",
    "     separator: a substring that separates the string\n",
    "\n",
    "     Return: Returns a tuple of 3 elements. The substring before the separator, the separator, the part after the separator."
   ]
  },
  {
   "cell_type": "code",
   "execution_count": 79,
   "id": "f3038801",
   "metadata": {},
   "outputs": [
    {
     "data": {
      "text/plain": [
       "('I love concept ', 'of', ' mathematics')"
      ]
     },
     "execution_count": 79,
     "metadata": {},
     "output_type": "execute_result"
    }
   ],
   "source": [
    "str = \"I love concept of mathematics\"\n",
    "str.partition(\"of\")\n"
   ]
  },
  {
   "cell_type": "markdown",
   "id": "dae53a14",
   "metadata": {},
   "source": [
    "# replace()"
   ]
  },
  {
   "cell_type": "markdown",
   "id": "1119c59b",
   "metadata": {},
   "source": [
    "replace() method returns a copy of the string where occurrences of a substring are replaced with another substring.\n",
    "\n",
    "replace() Method Syntax\n",
    " \n",
    "    string.replace(old, new, count)\n",
    "\n",
    "Parameters:\n",
    "\n",
    "    old – old substring you want to replace.\n",
    "\n",
    "    new – new substring which would replace the old substring.\n",
    "\n",
    "    count – ( Optional ) the number of times you want to replace the old substring with the new substring."
   ]
  },
  {
   "cell_type": "code",
   "execution_count": 80,
   "id": "b83c4d34",
   "metadata": {},
   "outputs": [
    {
     "name": "stdout",
     "output_type": "stream",
     "text": [
      "Good Bye World\n"
     ]
    }
   ],
   "source": [
    "string = \"Hello World\"\n",
    "new_string = string.replace(\"Hello\", \"Good Bye\")\n",
    "\n",
    "print(new_string)\n"
   ]
  },
  {
   "cell_type": "code",
   "execution_count": 84,
   "id": "d4224ab1",
   "metadata": {},
   "outputs": [
    {
     "name": "stdout",
     "output_type": "stream",
     "text": [
      "Good Bye World Good Bye\n"
     ]
    }
   ],
   "source": [
    "string = \"Hello World Hello\"\n",
    "new_string = string.replace(\"Hello\", \"Good Bye\",2)\n",
    "\n",
    "print(new_string)\n"
   ]
  },
  {
   "cell_type": "markdown",
   "id": "2652eafa",
   "metadata": {},
   "source": [
    "# rfind()"
   ]
  },
  {
   "cell_type": "markdown",
   "id": "4be1edd1",
   "metadata": {},
   "source": [
    "rfind() method returns the rightmost index of the substring if found in the given string. If not found then it returns -1.\n",
    "\n",
    "Python String rfind() Method Syntax\n",
    "\n",
    "    Syntax:  str.rfind(sub, start, end)\n",
    "\n",
    "Parameters: \n",
    "\n",
    "    sub: It’s the substring that needs to be searched in the given string. \n",
    "\n",
    "    start: Starting position where the sub needs to be checked within the string. \n",
    "\n",
    "    end: Ending position where suffix needs to be checked within the string. \n",
    "\n",
    "Note: \n",
    "      \n",
    "      If start and end indexes are not provided then, by default it takes 0 and length-1 as starting and ending indexes where ending indexes are not included in our search.\n",
    "\n",
    "\n",
    "Return:  Returns the right-most index of the substring if it is found in the given string; if not found, then it returns -1."
   ]
  },
  {
   "cell_type": "code",
   "execution_count": 85,
   "id": "4392ef1f",
   "metadata": {},
   "outputs": [
    {
     "name": "stdout",
     "output_type": "stream",
     "text": [
      "13\n"
     ]
    }
   ],
   "source": [
    "string = \"Ram is going to agra\"\n",
    "print(string.rfind(\"to\"))\n"
   ]
  },
  {
   "cell_type": "code",
   "execution_count": 89,
   "id": "2b1a34cc",
   "metadata": {},
   "outputs": [
    {
     "data": {
      "text/plain": [
       "11"
      ]
     },
     "execution_count": 89,
     "metadata": {},
     "output_type": "execute_result"
    }
   ],
   "source": [
    "s=\"Devendra Singh\"\n",
    "s.rfind(\"n\")"
   ]
  },
  {
   "cell_type": "code",
   "execution_count": 90,
   "id": "3f430b46",
   "metadata": {},
   "outputs": [
    {
     "data": {
      "text/plain": [
       "11"
      ]
     },
     "execution_count": 90,
     "metadata": {},
     "output_type": "execute_result"
    }
   ],
   "source": [
    "s=\"Devendra Singh\"\n",
    "s.rfind(\"n\",0,14)"
   ]
  },
  {
   "cell_type": "markdown",
   "id": "9c7f9393",
   "metadata": {},
   "source": [
    "# rindex()"
   ]
  },
  {
   "cell_type": "markdown",
   "id": "a9204fa2",
   "metadata": {},
   "source": [
    "rindex() method returns the highest index of the substring inside the string if the substring is found. Otherwise, it raises ValueError.\n",
    "\n",
    "Python String index() Method Syntax\n",
    "\n",
    "    Syntax:  str.rindex(sub, start, end)\n",
    "\n",
    "Parameters: \n",
    "\n",
    "    sub : It’s the substring which needs to be searched in the given string.\n",
    "  \n",
    "    start : Starting position where sub is needs to be checked within the string.\n",
    "\n",
    "    end : Ending position where suffix is needs to be checked within the string.\n",
    "\n",
    "Return: Returns the highest index of the substring inside the string if substring is found. Otherwise it raises an exception."
   ]
  },
  {
   "cell_type": "code",
   "execution_count": 93,
   "id": "e263a294",
   "metadata": {},
   "outputs": [
    {
     "name": "stdout",
     "output_type": "stream",
     "text": [
      "Substring 'of': 8\n"
     ]
    }
   ],
   "source": [
    "text = 'concept of mathematics'\n",
    "\n",
    "result = text.rindex('of')\n",
    "print(\"Substring 'of':\", result)\n"
   ]
  },
  {
   "cell_type": "code",
   "execution_count": 94,
   "id": "32c701e5",
   "metadata": {},
   "outputs": [
    {
     "name": "stdout",
     "output_type": "stream",
     "text": [
      "0\n",
      "0\n",
      "5\n"
     ]
    }
   ],
   "source": [
    "string = \"ring ring\"\n",
    "\n",
    "# checks for the substring in the range 0-4 of the string\n",
    "print(string.rindex(\"ring\", 0, 4))\n",
    "\n",
    "# same as using 0 & 4 as start, end value\n",
    "print(string.rindex(\"ring\", 0, -5))\n",
    "\n",
    "string = \"101001010\"\n",
    "# since there are no '101' substring after string[0:3]\n",
    "# thus it will take the last occurrence of '101'\n",
    "print(string.rindex('101', 2))\n"
   ]
  },
  {
   "cell_type": "code",
   "execution_count": null,
   "id": "e0c87330",
   "metadata": {},
   "outputs": [],
   "source": []
  },
  {
   "cell_type": "code",
   "execution_count": null,
   "id": "6e355f02",
   "metadata": {},
   "outputs": [],
   "source": []
  },
  {
   "cell_type": "markdown",
   "id": "a9856bb7",
   "metadata": {},
   "source": [
    "# rpartition()"
   ]
  },
  {
   "cell_type": "markdown",
   "id": "c2e77cd2",
   "metadata": {},
   "source": [
    "rpartition() Method split the given string into three parts. rpartition() starts looking for separator from the right side, till the separator is found and return a tuple which contains part of the string before separator, the separator and the part after the separator.\n",
    "\n",
    "Python String rpartition() Method Syntax\n",
    "\n",
    "    Syntax :  string.rpartition(separator)\n",
    "\n",
    "Parameters :  \n",
    "\n",
    "     separator –  separates the string at the first occurrence of it.\n",
    "\n",
    "Return Value : \n",
    "\n",
    "    It returns the part the string before the separator, separator parameter itself, and the part after the separator if the separator parameter is found in the string.\n",
    "\n",
    "    It returns two empty strings, followed by the given string if the separator is not found in the string."
   ]
  },
  {
   "cell_type": "code",
   "execution_count": 95,
   "id": "633513d9",
   "metadata": {},
   "outputs": [
    {
     "name": "stdout",
     "output_type": "stream",
     "text": [
      "('ram@for@sita@is@for', '@', 'ram')\n",
      "('Ram is not eating but Mohan ', 'is', ' eating')\n"
     ]
    }
   ],
   "source": [
    "#String need to split \n",
    "string1 = \"ram@for@sita@is@for@ram\"\n",
    "\n",
    "string2 = \"Ram is not eating but Mohan is eating\"\n",
    "\n",
    "# Here '@' is a separator \n",
    "print(string1.rpartition('@')) \n",
    "\n",
    "# Here 'is' is separator \n",
    "print(string2.rpartition('is')) \n"
   ]
  },
  {
   "cell_type": "markdown",
   "id": "bb23cb9c",
   "metadata": {},
   "source": [
    "# rsplit()"
   ]
  },
  {
   "cell_type": "markdown",
   "id": "598c9749",
   "metadata": {},
   "source": [
    "rsplit() method returns a list of strings after breaking the given string from the right side by the specified separator.\n",
    "\n",
    "Python String rsplit() Method Syntax:\n",
    "  \n",
    "     Syntax:  str.rsplit(separator, maxsplit)\n",
    "\n",
    "Parameters:  \n",
    "\n",
    "     separator: The is a delimiter. The string splits at this specified separator starting from the right side. If not provided then any white space character is a separator.\n",
    "\n",
    "     maxsplit: It is a number, which tells us to split the string into a maximum of provided number of times. If it is not provided then there is no limit.  \n",
    "\n",
    "Return: Returns a list of strings after breaking the given string from the right side by the specified separator.\n",
    "\n",
    "Error: We will not get any error even if we are not passing any argument.\n"
   ]
  },
  {
   "cell_type": "code",
   "execution_count": 96,
   "id": "b8911f43",
   "metadata": {},
   "outputs": [
    {
     "name": "stdout",
     "output_type": "stream",
     "text": [
      "['jai', 'shree', 'ram']\n"
     ]
    }
   ],
   "source": [
    "string = \"jai-shree-ram\"\n",
    "print(string.rsplit('-'))\n"
   ]
  },
  {
   "cell_type": "code",
   "execution_count": 98,
   "id": "a8140252",
   "metadata": {},
   "outputs": [
    {
     "name": "stdout",
     "output_type": "stream",
     "text": [
      "['concept, of, mathema', 'ics']\n",
      "['dev@for', 'python']\n"
     ]
    }
   ],
   "source": [
    "# splits the string at index 12\n",
    "# i.e.: the last occurrence of g\n",
    "word = 'concept, of, mathematics'\n",
    "print(word.rsplit('t', 1))\n",
    "\n",
    "# Splitting at '@' with maximum splitting\n",
    "# as 1\n",
    "word = 'dev@for@python'\n",
    "print(word.rsplit('@', 1))\n"
   ]
  },
  {
   "cell_type": "code",
   "execution_count": 99,
   "id": "f06b1d15",
   "metadata": {},
   "outputs": [
    {
     "name": "stdout",
     "output_type": "stream",
     "text": [
      "['concep', ', of, ma', 'hema', 'ics']\n"
     ]
    }
   ],
   "source": [
    "word = 'concept, of, mathematics'\n",
    "print(word.rsplit('t', 3))"
   ]
  },
  {
   "cell_type": "markdown",
   "id": "405edd08",
   "metadata": {},
   "source": [
    "# rstrip()"
   ]
  },
  {
   "cell_type": "markdown",
   "id": "253fe505",
   "metadata": {},
   "source": [
    "rstrip() method returns a copy of the string with trailing characters removed (based on the string argument passed). If no argument is passed, it removes trailing spaces.\n",
    "\n",
    "Python String rstrip() Method Syntax\n",
    "\n",
    "    Syntax:  string.rstrip([chars])\n",
    "\n",
    "Parameters: chars (optional) – a string specifying the set of characters to be removed.\n",
    "\n",
    "Return: Returns a copy of the string with trailing characters stripped"
   ]
  },
  {
   "cell_type": "code",
   "execution_count": 100,
   "id": "841567ae",
   "metadata": {},
   "outputs": [
    {
     "name": "stdout",
     "output_type": "stream",
     "text": [
      "deve\n"
     ]
    }
   ],
   "source": [
    "# string which is to be stripped\n",
    "string = \"devesssss\"\n",
    "print(string.rstrip('s'))\n"
   ]
  },
  {
   "cell_type": "code",
   "execution_count": 101,
   "id": "919d96be",
   "metadata": {},
   "outputs": [
    {
     "name": "stdout",
     "output_type": "stream",
     "text": [
      "devesssss\n"
     ]
    }
   ],
   "source": [
    "string = \"devesssss     \"\n",
    "print(string.rstrip())"
   ]
  },
  {
   "cell_type": "markdown",
   "id": "8b9abe09",
   "metadata": {},
   "source": [
    "# split()"
   ]
  },
  {
   "cell_type": "code",
   "execution_count": 102,
   "id": "e123b4db",
   "metadata": {},
   "outputs": [
    {
     "data": {
      "text/plain": [
       "['ram', 'is', 'going', 'to', 'kanpur']"
      ]
     },
     "execution_count": 102,
     "metadata": {},
     "output_type": "execute_result"
    }
   ],
   "source": [
    "text=\"ram is going to kanpur\"\n",
    "text.split()"
   ]
  },
  {
   "cell_type": "code",
   "execution_count": 103,
   "id": "4cdad316",
   "metadata": {},
   "outputs": [
    {
     "data": {
      "text/plain": [
       "['ram is going ', ' kanpur']"
      ]
     },
     "execution_count": 103,
     "metadata": {},
     "output_type": "execute_result"
    }
   ],
   "source": [
    "text=\"ram is going to kanpur\"\n",
    "text.split(\"to\")"
   ]
  },
  {
   "cell_type": "code",
   "execution_count": null,
   "id": "83fdded5",
   "metadata": {},
   "outputs": [],
   "source": []
  },
  {
   "cell_type": "markdown",
   "id": "1b7991cc",
   "metadata": {},
   "source": [
    "# splitlines()"
   ]
  },
  {
   "cell_type": "markdown",
   "id": "d0a48f78",
   "metadata": {},
   "source": [
    "splitlines() method is used to split the lines at line boundaries. The function returns a list of lines in the string, including the line break(optional).\n",
    "\n",
    "Syntax: \n",
    "\n",
    "    string.splitlines([keepends])\n",
    "\n",
    "Parameters:\n",
    "\n",
    "    keepends (optional): When set to True line breaks are included in the resulting list. This can be a number, specifying the position of line break or, can be any Unicode characters, like “\\n”, “\\r”, “\\r\\n”, etc as boundaries for strings.\n",
    "\n",
    "Return Value: \n",
    "\n",
    "    Returns a list of the lines in the string, breaking at line boundaries."
   ]
  },
  {
   "cell_type": "code",
   "execution_count": 108,
   "id": "eb72ba9a",
   "metadata": {},
   "outputs": [],
   "source": [
    "str=\"splitlines() method is used to split the lines at \\n line boundaries. The function returns a \\r\\n list of lines in the string, including the line break(optional).\""
   ]
  },
  {
   "cell_type": "code",
   "execution_count": 109,
   "id": "19a1cb5c",
   "metadata": {},
   "outputs": [
    {
     "data": {
      "text/plain": [
       "['splitlines() method is used to split the lines at ',\n",
       " ' line boundaries. The function returns a ',\n",
       " ' list of lines in the string, including the line break(optional).']"
      ]
     },
     "execution_count": 109,
     "metadata": {},
     "output_type": "execute_result"
    }
   ],
   "source": [
    "str.splitlines()"
   ]
  },
  {
   "cell_type": "markdown",
   "id": "e71ed6d8",
   "metadata": {},
   "source": [
    "# startswith()"
   ]
  },
  {
   "cell_type": "code",
   "execution_count": 110,
   "id": "9dd30ec8",
   "metadata": {},
   "outputs": [
    {
     "data": {
      "text/plain": [
       "True"
      ]
     },
     "execution_count": 110,
     "metadata": {},
     "output_type": "execute_result"
    }
   ],
   "source": [
    "s=\"Devendra Singh\"\n",
    "s.startswith(\"D\")"
   ]
  },
  {
   "cell_type": "code",
   "execution_count": 111,
   "id": "708bece9",
   "metadata": {},
   "outputs": [
    {
     "data": {
      "text/plain": [
       "False"
      ]
     },
     "execution_count": 111,
     "metadata": {},
     "output_type": "execute_result"
    }
   ],
   "source": [
    "s=\"Devendra Singh\"\n",
    "s.startswith(\"h\")"
   ]
  },
  {
   "cell_type": "markdown",
   "id": "a028d6f9",
   "metadata": {},
   "source": [
    "# strip()"
   ]
  },
  {
   "cell_type": "code",
   "execution_count": 113,
   "id": "51647fce",
   "metadata": {},
   "outputs": [
    {
     "data": {
      "text/plain": [
       "'Devendra          singh'"
      ]
     },
     "execution_count": 113,
     "metadata": {},
     "output_type": "execute_result"
    }
   ],
   "source": [
    "s=\"            Devendra          singh                 \"\n",
    "s.strip()"
   ]
  },
  {
   "cell_type": "markdown",
   "id": "5b05ebac",
   "metadata": {},
   "source": [
    "# swapcase()"
   ]
  },
  {
   "cell_type": "code",
   "execution_count": 114,
   "id": "8714fbac",
   "metadata": {},
   "outputs": [
    {
     "data": {
      "text/plain": [
       "'dEvEnDrA'"
      ]
     },
     "execution_count": 114,
     "metadata": {},
     "output_type": "execute_result"
    }
   ],
   "source": [
    "text=\"DeVeNdRa\"\n",
    "text.swapcase()"
   ]
  },
  {
   "cell_type": "markdown",
   "id": "1a88ce37",
   "metadata": {},
   "source": [
    "# title()"
   ]
  },
  {
   "cell_type": "code",
   "execution_count": 116,
   "id": "80bbade0",
   "metadata": {},
   "outputs": [
    {
     "data": {
      "text/plain": [
       "'Concept Of Mathematics'"
      ]
     },
     "execution_count": 116,
     "metadata": {},
     "output_type": "execute_result"
    }
   ],
   "source": [
    "text =\"concept of mathEmatics\"\n",
    "text.title()"
   ]
  },
  {
   "cell_type": "code",
   "execution_count": null,
   "id": "e2ca2475",
   "metadata": {},
   "outputs": [],
   "source": []
  }
 ],
 "metadata": {
  "kernelspec": {
   "display_name": "Python 3 (ipykernel)",
   "language": "python",
   "name": "python3"
  },
  "language_info": {
   "codemirror_mode": {
    "name": "ipython",
    "version": 3
   },
   "file_extension": ".py",
   "mimetype": "text/x-python",
   "name": "python",
   "nbconvert_exporter": "python",
   "pygments_lexer": "ipython3",
   "version": "3.10.9"
  }
 },
 "nbformat": 4,
 "nbformat_minor": 5
}
