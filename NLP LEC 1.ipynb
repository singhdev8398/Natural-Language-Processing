{
 "cells": [
  {
   "cell_type": "markdown",
   "id": "2e1fe94c",
   "metadata": {},
   "source": [
    "# What is NLP ?"
   ]
  },
  {
   "cell_type": "markdown",
   "id": "6a1eed4c",
   "metadata": {},
   "source": [
    "Natural language processing (NLP) is a field that focuses on making natural human language usable by computer programs. NLTK, or Natural Language Toolkit, is a Python package that you can use for NLP. A lot of the data that you could be analyzing is unstructured data and contains human-readable text."
   ]
  },
  {
   "cell_type": "markdown",
   "id": "0271d269",
   "metadata": {},
   "source": [
    "# Understanding the Basics: Strings and Variables"
   ]
  },
  {
   "cell_type": "markdown",
   "id": "6b2006c2",
   "metadata": {},
   "source": [
    "# Representing text"
   ]
  },
  {
   "cell_type": "markdown",
   "id": "d407d0e7",
   "metadata": {},
   "source": [
    "Python represents a piece of text using a string. Strings are delimited\u0014or separated from the rest\n",
    "of the program\u0014by quotation marks:"
   ]
  },
  {
   "cell_type": "code",
   "execution_count": 27,
   "id": "58b15d8c",
   "metadata": {},
   "outputs": [
    {
     "data": {
      "text/plain": [
       "str"
      ]
     },
     "execution_count": 27,
     "metadata": {},
     "output_type": "execute_result"
    }
   ],
   "source": [
    "type(\"Hello World\")"
   ]
  },
  {
   "cell_type": "code",
   "execution_count": 26,
   "id": "365e6784",
   "metadata": {},
   "outputs": [
    {
     "data": {
      "text/plain": [
       "str"
      ]
     },
     "execution_count": 26,
     "metadata": {},
     "output_type": "execute_result"
    }
   ],
   "source": [
    "type('concept of mathematics')"
   ]
  },
  {
   "cell_type": "code",
   "execution_count": 25,
   "id": "6363b9c7",
   "metadata": {},
   "outputs": [
    {
     "data": {
      "text/plain": [
       "str"
      ]
     },
     "execution_count": 25,
     "metadata": {},
     "output_type": "execute_result"
    }
   ],
   "source": [
    "type(\"\"\"devendra singh\"\"\")"
   ]
  },
  {
   "cell_type": "code",
   "execution_count": 28,
   "id": "1d587267",
   "metadata": {},
   "outputs": [
    {
     "data": {
      "text/plain": [
       "'Concept of mathematics'"
      ]
     },
     "execution_count": 28,
     "metadata": {},
     "output_type": "execute_result"
    }
   ],
   "source": [
    "'Concept of mathematics'"
   ]
  },
  {
   "cell_type": "markdown",
   "id": "f134c8ad",
   "metadata": {},
   "source": [
    "# String Operations"
   ]
  },
  {
   "cell_type": "markdown",
   "id": "73509bc0",
   "metadata": {},
   "source": [
    "# 1 + operation is called concatenation."
   ]
  },
  {
   "cell_type": "code",
   "execution_count": 29,
   "id": "f29e79c1",
   "metadata": {},
   "outputs": [
    {
     "data": {
      "text/plain": [
       "'HelloWorld'"
      ]
     },
     "execution_count": 29,
     "metadata": {},
     "output_type": "execute_result"
    }
   ],
   "source": [
    "'Hello' + 'World'"
   ]
  },
  {
   "cell_type": "code",
   "execution_count": 30,
   "id": "f0beeb92",
   "metadata": {},
   "outputs": [
    {
     "data": {
      "text/plain": [
       "'Hello world'"
      ]
     },
     "execution_count": 30,
     "metadata": {},
     "output_type": "execute_result"
    }
   ],
   "source": [
    "\"Hello\"+\" \"+\"world\""
   ]
  },
  {
   "cell_type": "code",
   "execution_count": 31,
   "id": "59c7fd08",
   "metadata": {},
   "outputs": [
    {
     "data": {
      "text/plain": [
       "'HiHiHi'"
      ]
     },
     "execution_count": 31,
     "metadata": {},
     "output_type": "execute_result"
    }
   ],
   "source": [
    "'Hi' + 'Hi' + 'Hi'"
   ]
  },
  {
   "cell_type": "code",
   "execution_count": 33,
   "id": "2f6881d0",
   "metadata": {},
   "outputs": [
    {
     "ename": "TypeError",
     "evalue": "can only concatenate str (not \"list\") to str",
     "output_type": "error",
     "traceback": [
      "\u001b[1;31m---------------------------------------------------------------------------\u001b[0m",
      "\u001b[1;31mTypeError\u001b[0m                                 Traceback (most recent call last)",
      "Cell \u001b[1;32mIn[33], line 1\u001b[0m\n\u001b[1;32m----> 1\u001b[0m \u001b[38;5;124;43m'\u001b[39;49m\u001b[38;5;124;43mhi\u001b[39;49m\u001b[38;5;124;43m'\u001b[39;49m\u001b[38;5;241;43m+\u001b[39;49m\u001b[43m \u001b[49m\u001b[43m[\u001b[49m\u001b[38;5;124;43m'\u001b[39;49m\u001b[38;5;124;43mhdfh\u001b[39;49m\u001b[38;5;124;43m'\u001b[39;49m\u001b[43m]\u001b[49m\n",
      "\u001b[1;31mTypeError\u001b[0m: can only concatenate str (not \"list\") to str"
     ]
    }
   ],
   "source": [
    "'hi'+ ['hdfh']"
   ]
  },
  {
   "cell_type": "markdown",
   "id": "4b83546a",
   "metadata": {},
   "source": [
    "# 2 Repetition"
   ]
  },
  {
   "cell_type": "code",
   "execution_count": 34,
   "id": "f3a18296",
   "metadata": {},
   "outputs": [
    {
     "data": {
      "text/plain": [
       "'HiHiHi'"
      ]
     },
     "execution_count": 34,
     "metadata": {},
     "output_type": "execute_result"
    }
   ],
   "source": [
    "'Hi' * 3"
   ]
  },
  {
   "cell_type": "code",
   "execution_count": 37,
   "id": "6c7098f5",
   "metadata": {},
   "outputs": [
    {
     "data": {
      "text/plain": [
       "' concept of mathematics  concept of mathematics  concept of mathematics  concept of mathematics  concept of mathematics  concept of mathematics  concept of mathematics  concept of mathematics  concept of mathematics  concept of mathematics '"
      ]
     },
     "execution_count": 37,
     "metadata": {},
     "output_type": "execute_result"
    }
   ],
   "source": [
    "\" concept of mathematics \"*10"
   ]
  },
  {
   "cell_type": "markdown",
   "id": "fd0e2491",
   "metadata": {},
   "source": [
    "# 3 Membership"
   ]
  },
  {
   "cell_type": "code",
   "execution_count": 38,
   "id": "08af8e35",
   "metadata": {},
   "outputs": [],
   "source": [
    "str1 = 'Hello World!'"
   ]
  },
  {
   "cell_type": "code",
   "execution_count": 39,
   "id": "9187341e",
   "metadata": {},
   "outputs": [
    {
     "data": {
      "text/plain": [
       "True"
      ]
     },
     "execution_count": 39,
     "metadata": {},
     "output_type": "execute_result"
    }
   ],
   "source": [
    "'W' in str1"
   ]
  },
  {
   "cell_type": "code",
   "execution_count": 40,
   "id": "c7ef2d5d",
   "metadata": {},
   "outputs": [
    {
     "data": {
      "text/plain": [
       "True"
      ]
     },
     "execution_count": 40,
     "metadata": {},
     "output_type": "execute_result"
    }
   ],
   "source": [
    "'concept' in \"concept of mathematics\""
   ]
  },
  {
   "cell_type": "markdown",
   "id": "7baf82bb",
   "metadata": {},
   "source": [
    "# Storing and Reusing Values"
   ]
  },
  {
   "cell_type": "markdown",
   "id": "1aa198ea",
   "metadata": {},
   "source": [
    "We do this by saving results to a location in the computer’s memory, and giving the location a\n",
    "name. Such a named place is called a variable. In Python we create variables by assignment, which\n",
    "involves putting a value into the variable:"
   ]
  },
  {
   "cell_type": "code",
   "execution_count": 41,
   "id": "f48f4cc8",
   "metadata": {},
   "outputs": [],
   "source": [
    "msg= \"Hello World\""
   ]
  },
  {
   "cell_type": "code",
   "execution_count": 42,
   "id": "166f5474",
   "metadata": {},
   "outputs": [],
   "source": [
    "num = 3"
   ]
  },
  {
   "cell_type": "code",
   "execution_count": 43,
   "id": "10738024",
   "metadata": {},
   "outputs": [
    {
     "data": {
      "text/plain": [
       "'Hello WorldHello WorldHello World'"
      ]
     },
     "execution_count": 43,
     "metadata": {},
     "output_type": "execute_result"
    }
   ],
   "source": [
    "msg * num"
   ]
  },
  {
   "cell_type": "code",
   "execution_count": 51,
   "id": "55fbf997",
   "metadata": {},
   "outputs": [],
   "source": [
    "r=\"ram\""
   ]
  },
  {
   "cell_type": "code",
   "execution_count": 53,
   "id": "2344a156",
   "metadata": {},
   "outputs": [
    {
     "data": {
      "text/plain": [
       "'ram'"
      ]
     },
     "execution_count": 53,
     "metadata": {},
     "output_type": "execute_result"
    }
   ],
   "source": [
    "r"
   ]
  },
  {
   "cell_type": "code",
   "execution_count": 54,
   "id": "d783066c",
   "metadata": {},
   "outputs": [],
   "source": [
    "_jam=\"master\""
   ]
  },
  {
   "cell_type": "code",
   "execution_count": 55,
   "id": "e8261c5e",
   "metadata": {},
   "outputs": [
    {
     "data": {
      "text/plain": [
       "'master'"
      ]
     },
     "execution_count": 55,
     "metadata": {},
     "output_type": "execute_result"
    }
   ],
   "source": [
    "_jam"
   ]
  },
  {
   "cell_type": "markdown",
   "id": "e1080ee3",
   "metadata": {},
   "source": [
    "# 4 Slicing "
   ]
  },
  {
   "cell_type": "markdown",
   "id": "74699918",
   "metadata": {},
   "source": [
    "Strings are so important that we will spend some more time on them. Here we will learn how to access\n",
    "the individual characters that make up a string, how to pull out arbitrary substrings, and how to reverse\n",
    "strings."
   ]
  },
  {
   "cell_type": "code",
   "execution_count": 67,
   "id": "8ceee692",
   "metadata": {},
   "outputs": [
    {
     "data": {
      "text/html": [
       "<img src=\"https://www.nltk.org/images/string-slicing.png\"/>"
      ],
      "text/plain": [
       "<IPython.core.display.Image object>"
      ]
     },
     "execution_count": 67,
     "metadata": {},
     "output_type": "execute_result"
    }
   ],
   "source": [
    "from IPython.display import Image\n",
    "Image(url=\"https://www.nltk.org/images/string-slicing.png\")"
   ]
  },
  {
   "cell_type": "markdown",
   "id": "1ffa681c",
   "metadata": {},
   "source": [
    "# Accessing Individual Characters"
   ]
  },
  {
   "cell_type": "code",
   "execution_count": 62,
   "id": "adae70b3",
   "metadata": {},
   "outputs": [],
   "source": [
    "str= \"Monty Python\""
   ]
  },
  {
   "cell_type": "code",
   "execution_count": 63,
   "id": "a4f92645",
   "metadata": {},
   "outputs": [
    {
     "data": {
      "text/plain": [
       "12"
      ]
     },
     "execution_count": 63,
     "metadata": {},
     "output_type": "execute_result"
    }
   ],
   "source": [
    "len(str)"
   ]
  },
  {
   "cell_type": "code",
   "execution_count": 64,
   "id": "68da44e2",
   "metadata": {},
   "outputs": [
    {
     "data": {
      "text/plain": [
       "' '"
      ]
     },
     "execution_count": 64,
     "metadata": {},
     "output_type": "execute_result"
    }
   ],
   "source": [
    "str[5]"
   ]
  },
  {
   "cell_type": "code",
   "execution_count": 65,
   "id": "ece38080",
   "metadata": {},
   "outputs": [
    {
     "data": {
      "text/plain": [
       "'o'"
      ]
     },
     "execution_count": 65,
     "metadata": {},
     "output_type": "execute_result"
    }
   ],
   "source": [
    "str[1]"
   ]
  },
  {
   "cell_type": "code",
   "execution_count": 66,
   "id": "bf73d3c0",
   "metadata": {},
   "outputs": [
    {
     "data": {
      "text/plain": [
       "'h'"
      ]
     },
     "execution_count": 66,
     "metadata": {},
     "output_type": "execute_result"
    }
   ],
   "source": [
    "str[-3]"
   ]
  },
  {
   "cell_type": "code",
   "execution_count": 68,
   "id": "3bd39b9f",
   "metadata": {},
   "outputs": [
    {
     "data": {
      "text/plain": [
       "'t'"
      ]
     },
     "execution_count": 68,
     "metadata": {},
     "output_type": "execute_result"
    }
   ],
   "source": [
    "str[3]"
   ]
  },
  {
   "cell_type": "markdown",
   "id": "0bd5dcea",
   "metadata": {},
   "source": [
    "# Accessing Substrings"
   ]
  },
  {
   "cell_type": "markdown",
   "id": "3f5078c4",
   "metadata": {},
   "source": [
    "msg[start:End:step]  by defoult step =1\n"
   ]
  },
  {
   "cell_type": "code",
   "execution_count": 69,
   "id": "ae0ab0d8",
   "metadata": {},
   "outputs": [],
   "source": [
    "msg= \"Monty Python\""
   ]
  },
  {
   "cell_type": "code",
   "execution_count": 70,
   "id": "bcfcfcfc",
   "metadata": {},
   "outputs": [
    {
     "data": {
      "text/plain": [
       "'ont'"
      ]
     },
     "execution_count": 70,
     "metadata": {},
     "output_type": "execute_result"
    }
   ],
   "source": [
    "msg[1:4]"
   ]
  },
  {
   "cell_type": "code",
   "execution_count": 71,
   "id": "ef5238af",
   "metadata": {},
   "outputs": [
    {
     "data": {
      "text/plain": [
       "12"
      ]
     },
     "execution_count": 71,
     "metadata": {},
     "output_type": "execute_result"
    }
   ],
   "source": [
    "len(msg)"
   ]
  },
  {
   "cell_type": "code",
   "execution_count": 72,
   "id": "555913bf",
   "metadata": {},
   "outputs": [
    {
     "data": {
      "text/plain": [
       "'Monty '"
      ]
     },
     "execution_count": 72,
     "metadata": {},
     "output_type": "execute_result"
    }
   ],
   "source": [
    "msg[0:-6]"
   ]
  },
  {
   "cell_type": "code",
   "execution_count": 73,
   "id": "60ebb1f9",
   "metadata": {},
   "outputs": [
    {
     "data": {
      "text/plain": [
       "'Mon'"
      ]
     },
     "execution_count": 73,
     "metadata": {},
     "output_type": "execute_result"
    }
   ],
   "source": [
    "msg[:3]"
   ]
  },
  {
   "cell_type": "code",
   "execution_count": 74,
   "id": "627e236b",
   "metadata": {},
   "outputs": [
    {
     "data": {
      "text/plain": [
       "'Python'"
      ]
     },
     "execution_count": 74,
     "metadata": {},
     "output_type": "execute_result"
    }
   ],
   "source": [
    "msg[6:]"
   ]
  },
  {
   "cell_type": "code",
   "execution_count": 75,
   "id": "196e7682",
   "metadata": {},
   "outputs": [
    {
     "data": {
      "text/plain": [
       "'Pto'"
      ]
     },
     "execution_count": 75,
     "metadata": {},
     "output_type": "execute_result"
    }
   ],
   "source": [
    "msg[6:11:2]"
   ]
  },
  {
   "cell_type": "code",
   "execution_count": 76,
   "id": "d4b54cc6",
   "metadata": {},
   "outputs": [
    {
     "data": {
      "text/plain": [
       "'otP'"
      ]
     },
     "execution_count": 76,
     "metadata": {},
     "output_type": "execute_result"
    }
   ],
   "source": [
    "msg[10:5:-2]"
   ]
  },
  {
   "cell_type": "code",
   "execution_count": 82,
   "id": "da46e139",
   "metadata": {},
   "outputs": [
    {
     "data": {
      "text/plain": [
       "'nhy to'"
      ]
     },
     "execution_count": 82,
     "metadata": {},
     "output_type": "execute_result"
    }
   ],
   "source": [
    "msg[11:0:-2]"
   ]
  },
  {
   "cell_type": "code",
   "execution_count": 83,
   "id": "b78d0ed0",
   "metadata": {},
   "outputs": [
    {
     "data": {
      "text/plain": [
       "'Pytho'"
      ]
     },
     "execution_count": 83,
     "metadata": {},
     "output_type": "execute_result"
    }
   ],
   "source": [
    "msg[6:11:1]"
   ]
  },
  {
   "cell_type": "markdown",
   "id": "b78f0293",
   "metadata": {},
   "source": [
    "# Strings, Sequences, and Sentences"
   ]
  },
  {
   "cell_type": "markdown",
   "id": "ade70e49",
   "metadata": {},
   "source": [
    "We have seen how words like Hello can be stored as a string ’Hello’. Whole sentences can also\n",
    "be stored in strings, and manipulated as before, as we can see here for Chomsky’s famous nonsense\n",
    "sentence:"
   ]
  },
  {
   "cell_type": "code",
   "execution_count": 84,
   "id": "6c957d9b",
   "metadata": {},
   "outputs": [],
   "source": [
    "sent = 'colorless green ideas sleep furiously'"
   ]
  },
  {
   "cell_type": "code",
   "execution_count": 85,
   "id": "c95816ee",
   "metadata": {},
   "outputs": [
    {
     "data": {
      "text/plain": [
       "'c'"
      ]
     },
     "execution_count": 85,
     "metadata": {},
     "output_type": "execute_result"
    }
   ],
   "source": [
    "sent[0]"
   ]
  },
  {
   "cell_type": "code",
   "execution_count": 86,
   "id": "2b656192",
   "metadata": {},
   "outputs": [
    {
     "data": {
      "text/plain": [
       "'green'"
      ]
     },
     "execution_count": 86,
     "metadata": {},
     "output_type": "execute_result"
    }
   ],
   "source": [
    "sent[10:15]"
   ]
  },
  {
   "cell_type": "markdown",
   "id": "3e420787",
   "metadata": {},
   "source": [
    "# String is immutable"
   ]
  },
  {
   "cell_type": "markdown",
   "id": "2e858885",
   "metadata": {},
   "source": [
    "string object does not support item assignments"
   ]
  },
  {
   "cell_type": "code",
   "execution_count": 87,
   "id": "24e9a031",
   "metadata": {},
   "outputs": [],
   "source": [
    "f=\"Concept of mathematics\""
   ]
  },
  {
   "cell_type": "code",
   "execution_count": 88,
   "id": "21df7615",
   "metadata": {},
   "outputs": [
    {
     "data": {
      "text/plain": [
       "'n'"
      ]
     },
     "execution_count": 88,
     "metadata": {},
     "output_type": "execute_result"
    }
   ],
   "source": [
    "f[2]"
   ]
  },
  {
   "cell_type": "code",
   "execution_count": 89,
   "id": "a09bb2b6",
   "metadata": {},
   "outputs": [
    {
     "ename": "TypeError",
     "evalue": "'str' object does not support item assignment",
     "output_type": "error",
     "traceback": [
      "\u001b[1;31m---------------------------------------------------------------------------\u001b[0m",
      "\u001b[1;31mTypeError\u001b[0m                                 Traceback (most recent call last)",
      "Cell \u001b[1;32mIn[89], line 1\u001b[0m\n\u001b[1;32m----> 1\u001b[0m f[\u001b[38;5;241m2\u001b[39m]\u001b[38;5;241m=\u001b[39m\u001b[38;5;124m\"\u001b[39m\u001b[38;5;124mp\u001b[39m\u001b[38;5;124m\"\u001b[39m\n",
      "\u001b[1;31mTypeError\u001b[0m: 'str' object does not support item assignment"
     ]
    }
   ],
   "source": [
    "f[2]=\"p\"     #assignment operator"
   ]
  },
  {
   "cell_type": "code",
   "execution_count": 90,
   "id": "a1cb3bd0",
   "metadata": {},
   "outputs": [],
   "source": [
    "l=[\"a\",2,3,4,5,6]"
   ]
  },
  {
   "cell_type": "code",
   "execution_count": 91,
   "id": "374cede2",
   "metadata": {},
   "outputs": [
    {
     "data": {
      "text/plain": [
       "'a'"
      ]
     },
     "execution_count": 91,
     "metadata": {},
     "output_type": "execute_result"
    }
   ],
   "source": [
    "l[0]"
   ]
  },
  {
   "cell_type": "code",
   "execution_count": 92,
   "id": "54d76046",
   "metadata": {},
   "outputs": [
    {
     "data": {
      "text/plain": [
       "6"
      ]
     },
     "execution_count": 92,
     "metadata": {},
     "output_type": "execute_result"
    }
   ],
   "source": [
    "l[5]"
   ]
  },
  {
   "cell_type": "code",
   "execution_count": 93,
   "id": "6e84ceef",
   "metadata": {},
   "outputs": [],
   "source": [
    "l[5]=\"dev\""
   ]
  },
  {
   "cell_type": "code",
   "execution_count": 94,
   "id": "0d0b5449",
   "metadata": {},
   "outputs": [
    {
     "data": {
      "text/plain": [
       "['a', 2, 3, 4, 5, 'dev']"
      ]
     },
     "execution_count": 94,
     "metadata": {},
     "output_type": "execute_result"
    }
   ],
   "source": [
    "l"
   ]
  },
  {
   "cell_type": "markdown",
   "id": "d6cc43b5",
   "metadata": {},
   "source": [
    "# Common string literals and operations"
   ]
  },
  {
   "cell_type": "code",
   "execution_count": 95,
   "id": "1c0fcbee",
   "metadata": {},
   "outputs": [],
   "source": [
    "# Empty string\n",
    "s=\" \""
   ]
  },
  {
   "cell_type": "code",
   "execution_count": 96,
   "id": "40793e9d",
   "metadata": {},
   "outputs": [
    {
     "data": {
      "text/plain": [
       "' '"
      ]
     },
     "execution_count": 96,
     "metadata": {},
     "output_type": "execute_result"
    }
   ],
   "source": [
    "s"
   ]
  },
  {
   "cell_type": "code",
   "execution_count": 97,
   "id": "2d2b68c4",
   "metadata": {},
   "outputs": [
    {
     "data": {
      "text/plain": [
       "\"spam's\""
      ]
     },
     "execution_count": 97,
     "metadata": {},
     "output_type": "execute_result"
    }
   ],
   "source": [
    "s=\"spam's\"  #Double quotes, same as single\n",
    "s"
   ]
  },
  {
   "cell_type": "code",
   "execution_count": 99,
   "id": "533fe686",
   "metadata": {},
   "outputs": [
    {
     "data": {
      "text/plain": [
       "'spam\"s'"
      ]
     },
     "execution_count": 99,
     "metadata": {},
     "output_type": "execute_result"
    }
   ],
   "source": [
    "s='spam\"s' #Double quotes, same as single\n",
    "s"
   ]
  },
  {
   "cell_type": "code",
   "execution_count": 102,
   "id": "f17ea622",
   "metadata": {},
   "outputs": [
    {
     "data": {
      "text/plain": [
       "'s\\np\\t\\t c'"
      ]
     },
     "execution_count": 102,
     "metadata": {},
     "output_type": "execute_result"
    }
   ],
   "source": [
    "s='s\\np\\t\\t c'  #escape Sequences\n",
    "s"
   ]
  },
  {
   "cell_type": "code",
   "execution_count": 103,
   "id": "22c8bdab",
   "metadata": {},
   "outputs": [
    {
     "name": "stdout",
     "output_type": "stream",
     "text": [
      "s\n",
      "p\t\t c\n"
     ]
    }
   ],
   "source": [
    "print(s)"
   ]
  },
  {
   "cell_type": "code",
   "execution_count": 104,
   "id": "ba5c2b1f",
   "metadata": {},
   "outputs": [],
   "source": [
    "s=\"\"\" Concept of mathematics\"\"\"  # Triple Quoted block string"
   ]
  },
  {
   "cell_type": "code",
   "execution_count": 105,
   "id": "97db77bf",
   "metadata": {},
   "outputs": [
    {
     "data": {
      "text/plain": [
       "str"
      ]
     },
     "execution_count": 105,
     "metadata": {},
     "output_type": "execute_result"
    }
   ],
   "source": [
    "type(s)"
   ]
  },
  {
   "cell_type": "code",
   "execution_count": 109,
   "id": "9de60bac",
   "metadata": {},
   "outputs": [
    {
     "name": "stdout",
     "output_type": "stream",
     "text": [
      "\\temp\\spam\n"
     ]
    },
    {
     "data": {
      "text/plain": [
       "'\\\\temp\\\\spam'"
      ]
     },
     "execution_count": 109,
     "metadata": {},
     "output_type": "execute_result"
    }
   ],
   "source": [
    "s=r'\\temp\\spam' #raw string\n",
    "print(s)\n",
    "s"
   ]
  },
  {
   "cell_type": "code",
   "execution_count": 110,
   "id": "b6806089",
   "metadata": {},
   "outputs": [
    {
     "name": "stdout",
     "output_type": "stream",
     "text": [
      "b'spam'\n"
     ]
    }
   ],
   "source": [
    "s=b'spam'   # Byte string in 3.0\n",
    "s\n",
    "print(s)"
   ]
  },
  {
   "cell_type": "code",
   "execution_count": 111,
   "id": "7f2cd4fb",
   "metadata": {},
   "outputs": [
    {
     "data": {
      "text/plain": [
       "'spam'"
      ]
     },
     "execution_count": 111,
     "metadata": {},
     "output_type": "execute_result"
    }
   ],
   "source": [
    "s=u'spam'   #Unicode string in 2.0 only\n",
    "s"
   ]
  },
  {
   "cell_type": "markdown",
   "id": "8fce8330",
   "metadata": {},
   "source": [
    "# String conversion into list"
   ]
  },
  {
   "cell_type": "code",
   "execution_count": 112,
   "id": "37d189a8",
   "metadata": {},
   "outputs": [],
   "source": [
    "s=\"mathematics\""
   ]
  },
  {
   "cell_type": "code",
   "execution_count": 113,
   "id": "fb85e27c",
   "metadata": {},
   "outputs": [],
   "source": [
    "import string"
   ]
  },
  {
   "cell_type": "code",
   "execution_count": 117,
   "id": "87f68df3",
   "metadata": {},
   "outputs": [
    {
     "data": {
      "text/plain": [
       "'0123456789'"
      ]
     },
     "execution_count": 117,
     "metadata": {},
     "output_type": "execute_result"
    }
   ],
   "source": [
    "string.digits"
   ]
  },
  {
   "cell_type": "code",
   "execution_count": 118,
   "id": "d59ff494",
   "metadata": {},
   "outputs": [
    {
     "data": {
      "text/plain": [
       "['m', 'a', 't', 'h', 'e', 'm', 'a', 't', 'i', 'c', 's']"
      ]
     },
     "execution_count": 118,
     "metadata": {},
     "output_type": "execute_result"
    }
   ],
   "source": [
    "list(s)"
   ]
  },
  {
   "cell_type": "code",
   "execution_count": 119,
   "id": "b34d750a",
   "metadata": {},
   "outputs": [
    {
     "data": {
      "text/plain": [
       "'mathematics'"
      ]
     },
     "execution_count": 119,
     "metadata": {},
     "output_type": "execute_result"
    }
   ],
   "source": [
    "\"\".join(list(s))"
   ]
  },
  {
   "cell_type": "code",
   "execution_count": 120,
   "id": "26e17431",
   "metadata": {},
   "outputs": [
    {
     "data": {
      "text/plain": [
       "'m  a  t  h  e  m  a  t  i  c  s'"
      ]
     },
     "execution_count": 120,
     "metadata": {},
     "output_type": "execute_result"
    }
   ],
   "source": [
    "\"  \".join(list(s))"
   ]
  },
  {
   "cell_type": "markdown",
   "id": "21db70d0",
   "metadata": {},
   "source": [
    "# Sentence convert into list"
   ]
  },
  {
   "cell_type": "code",
   "execution_count": 130,
   "id": "e0830b57",
   "metadata": {},
   "outputs": [],
   "source": [
    "sent=\"conc@ept of math@emat@ics\""
   ]
  },
  {
   "cell_type": "code",
   "execution_count": 134,
   "id": "b5d0b084",
   "metadata": {},
   "outputs": [
    {
     "data": {
      "text/plain": [
       "['conc', 'ept of math', 'emat', 'ics']"
      ]
     },
     "execution_count": 134,
     "metadata": {},
     "output_type": "execute_result"
    }
   ],
   "source": [
    "t=sent.split(sep='@')\n",
    "t"
   ]
  },
  {
   "cell_type": "code",
   "execution_count": 135,
   "id": "145630fb",
   "metadata": {},
   "outputs": [
    {
     "data": {
      "text/plain": [
       "'conc ept of math emat ics'"
      ]
     },
     "execution_count": 135,
     "metadata": {},
     "output_type": "execute_result"
    }
   ],
   "source": [
    "\" \".join(t)"
   ]
  },
  {
   "cell_type": "code",
   "execution_count": 141,
   "id": "0b336da4",
   "metadata": {},
   "outputs": [
    {
     "data": {
      "text/plain": [
       "'concept of mathematics'"
      ]
     },
     "execution_count": 141,
     "metadata": {},
     "output_type": "execute_result"
    }
   ],
   "source": [
    "\"\".join(t)"
   ]
  },
  {
   "cell_type": "markdown",
   "id": "a5d834c5",
   "metadata": {},
   "source": [
    "# Traversing a String"
   ]
  },
  {
   "cell_type": "markdown",
   "id": "fb7c5ca5",
   "metadata": {},
   "source": [
    "We can access each character of a string or traverse a\n",
    "string using for loop and while loop."
   ]
  },
  {
   "cell_type": "markdown",
   "id": "a2a74b90",
   "metadata": {},
   "source": [
    "# (A) String Traversal Using for Loop:"
   ]
  },
  {
   "cell_type": "code",
   "execution_count": 147,
   "id": "8aea9d4a",
   "metadata": {},
   "outputs": [
    {
     "name": "stdout",
     "output_type": "stream",
     "text": [
      "H   e   l   l   o       W   o   r   l   d   !   "
     ]
    }
   ],
   "source": [
    "str1 = 'Hello World!'\n",
    "for ch in str1:\n",
    "    print(ch,end='   ')\n"
   ]
  },
  {
   "cell_type": "code",
   "execution_count": 150,
   "id": "ab5e9f33",
   "metadata": {},
   "outputs": [
    {
     "name": "stdout",
     "output_type": "stream",
     "text": [
      "H o e o l o l o o o   o W o o o r o l o d o ! o "
     ]
    }
   ],
   "source": [
    "str1 = 'Hello World!'\n",
    "for ch in str1:\n",
    "    print(ch,end = ' o ')"
   ]
  },
  {
   "cell_type": "markdown",
   "id": "25ff9cd0",
   "metadata": {},
   "source": [
    "# (B) String Traversal Using while Loop:"
   ]
  },
  {
   "cell_type": "code",
   "execution_count": 158,
   "id": "c7601894",
   "metadata": {},
   "outputs": [
    {
     "name": "stdout",
     "output_type": "stream",
     "text": [
      "H e l l o   W o r l d ! "
     ]
    }
   ],
   "source": [
    " str1 = 'Hello World!'\n",
    "index = 0\n",
    "#len(): a function to get length of string\n",
    "while index < len(str1):\n",
    "    print(str1[index],end = ' ')\n",
    "      #index += 1\n",
    "    index=index+1"
   ]
  },
  {
   "cell_type": "code",
   "execution_count": 159,
   "id": "975bccd7",
   "metadata": {},
   "outputs": [
    {
     "data": {
      "text/plain": [
       "12"
      ]
     },
     "execution_count": 159,
     "metadata": {},
     "output_type": "execute_result"
    }
   ],
   "source": [
    "len(str1)"
   ]
  },
  {
   "cell_type": "markdown",
   "id": "6e93736a",
   "metadata": {},
   "source": [
    "# if else statements"
   ]
  },
  {
   "cell_type": "code",
   "execution_count": 162,
   "id": "b32e5895",
   "metadata": {},
   "outputs": [
    {
     "name": "stdout",
     "output_type": "stream",
     "text": [
      "H is in str1\n"
     ]
    }
   ],
   "source": [
    "if 'H' in str1:\n",
    "    print(\"H\" + \" is in str1\")\n",
    "else:\n",
    "    print(\"not a member\")"
   ]
  },
  {
   "cell_type": "code",
   "execution_count": null,
   "id": "ca96f3c1",
   "metadata": {},
   "outputs": [],
   "source": []
  },
  {
   "cell_type": "code",
   "execution_count": null,
   "id": "6c51f4fe",
   "metadata": {},
   "outputs": [],
   "source": []
  },
  {
   "cell_type": "code",
   "execution_count": null,
   "id": "83b45d98",
   "metadata": {},
   "outputs": [],
   "source": [
    "NLP Lecture 2 String Methods and Built-in Functions"
   ]
  }
 ],
 "metadata": {
  "kernelspec": {
   "display_name": "Python 3 (ipykernel)",
   "language": "python",
   "name": "python3"
  },
  "language_info": {
   "codemirror_mode": {
    "name": "ipython",
    "version": 3
   },
   "file_extension": ".py",
   "mimetype": "text/x-python",
   "name": "python",
   "nbconvert_exporter": "python",
   "pygments_lexer": "ipython3",
   "version": "3.10.9"
  }
 },
 "nbformat": 4,
 "nbformat_minor": 5
}
